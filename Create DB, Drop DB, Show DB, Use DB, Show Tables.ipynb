{
 "cells": [
  {
   "cell_type": "markdown",
   "metadata": {},
   "source": [
    "# CREATE DATABASE\n",
    "\n",
    "Create a new SQL database.\n",
    "\n",
    "### Syntax\n",
    "\n",
    "CREATE DATABASE databasename;"
   ]
  },
  {
   "cell_type": "markdown",
   "metadata": {},
   "source": [
    "# DROP DATABASE \n",
    "\n",
    "Drop an existing SQL database.\n",
    "\n",
    "### Syntax\n",
    "\n",
    "DROP DATABASE databasename;\n"
   ]
  },
  {
   "cell_type": "markdown",
   "metadata": {},
   "source": [
    "# SHOW DATABASES\n",
    "\n",
    "Check the list of databases.\n",
    "\n",
    "### Syntax\n",
    "\n",
    "SHOW DATABASES;"
   ]
  },
  {
   "cell_type": "markdown",
   "metadata": {},
   "source": [
    "# USE DATABASE\n",
    "\n",
    "Select a database.\n",
    "\n",
    "### Syntax\n",
    "\n",
    "USE database_name;"
   ]
  },
  {
   "cell_type": "markdown",
   "metadata": {},
   "source": [
    "# SHOW TABLES\n",
    "\n",
    "Show all tables in a database.\n",
    "\n",
    "### Syntax\n",
    "\n",
    "SHOW TABLES;"
   ]
  },
  {
   "cell_type": "markdown",
   "metadata": {},
   "source": [
    "## Examples"
   ]
  },
  {
   "cell_type": "code",
   "execution_count": 33,
   "metadata": {},
   "outputs": [
    {
     "name": "stdout",
     "output_type": "stream",
     "text": [
      "{'Database': 'information_schema'}\n",
      "{'Database': 'mysql'}\n",
      "{'Database': 'northwind'}\n",
      "{'Database': 'performance_schema'}\n",
      "{'Database': 'sys'}\n",
      "{'Database': 'test'}\n",
      "{'Database': 'testdb'}\n",
      "\n",
      "\n",
      "{'Database': 'information_schema'}\n",
      "{'Database': 'mysql'}\n",
      "{'Database': 'northwind'}\n",
      "{'Database': 'performance_schema'}\n",
      "{'Database': 'sys'}\n",
      "{'Database': 'testdb'}\n"
     ]
    }
   ],
   "source": [
    "import pymysql\n",
    "\n",
    "# Connection params\n",
    "host = 'localhost'\n",
    "port = int(3306)\n",
    "user = 'root'\n",
    "pwd = ''\n",
    "charset = 'utf8mb4'\n",
    "cursorType = pymysql.cursors.DictCursor\n",
    " \n",
    "try:\n",
    "    # Create connection object\n",
    "    conn = pymysql.connect(host=host, port=port, user=user, passwd=pwd, charset=charset, cursorclass=cursorType) \n",
    " \n",
    "    # Cerate a cursor object\n",
    "    cursor = conn.cursor()\n",
    "\n",
    "    # Execute SQL statement\n",
    "    cursor.execute('CREATE DATABASE test;')\n",
    "    \n",
    "    # Execute SQL query\n",
    "    cursor.execute('SHOW DATABASES;')\n",
    "\n",
    "    # Print query result\n",
    "    for i in cursor.fetchall():\n",
    "        print(i)\n",
    "        \n",
    "    # Execute SQL statement\n",
    "    cursor.execute('DROP DATABASE test;')   \n",
    "    \n",
    "    # Execute SQL query\n",
    "    cursor.execute('SHOW DATABASES;')\n",
    "\n",
    "    # Print query result\n",
    "    print('\\n')\n",
    "    for i in cursor.fetchall():\n",
    "        print(i)\n",
    "    \n",
    "except Exception as e:\n",
    "    print(\"Exeception occured:{}\".format(e))\n",
    "\n",
    "finally:\n",
    "    conn.close()"
   ]
  },
  {
   "cell_type": "code",
   "execution_count": 28,
   "metadata": {},
   "outputs": [
    {
     "name": "stdout",
     "output_type": "stream",
     "text": [
      "{'Tables_in_northwind': 'customers'}\n",
      "{'Tables_in_northwind': 'employee_privileges'}\n",
      "{'Tables_in_northwind': 'employees'}\n",
      "{'Tables_in_northwind': 'inventory_transaction_types'}\n",
      "{'Tables_in_northwind': 'inventory_transactions'}\n",
      "{'Tables_in_northwind': 'invoices'}\n",
      "{'Tables_in_northwind': 'order_details'}\n",
      "{'Tables_in_northwind': 'order_details_status'}\n",
      "{'Tables_in_northwind': 'orders'}\n",
      "{'Tables_in_northwind': 'orders_status'}\n",
      "{'Tables_in_northwind': 'orders_tax_status'}\n",
      "{'Tables_in_northwind': 'privileges'}\n",
      "{'Tables_in_northwind': 'products'}\n",
      "{'Tables_in_northwind': 'purchase_order_details'}\n",
      "{'Tables_in_northwind': 'purchase_order_status'}\n",
      "{'Tables_in_northwind': 'purchase_orders'}\n",
      "{'Tables_in_northwind': 'sales_reports'}\n",
      "{'Tables_in_northwind': 'shippers'}\n",
      "{'Tables_in_northwind': 'strings'}\n",
      "{'Tables_in_northwind': 'suppliers'}\n"
     ]
    }
   ],
   "source": [
    "try:\n",
    "    # Create connection object\n",
    "    conn = pymysql.connect(host=host, port=port, user=user, passwd=pwd, charset=charset, cursorclass=cursorType) \n",
    " \n",
    "    # Cerate a cursor object\n",
    "    cursor = conn.cursor()\n",
    "\n",
    "    # Execute SQL statement\n",
    "    cursor.execute('USE northwind;')\n",
    "    \n",
    "    # Execute SQL query\n",
    "    cursor.execute('SHOW TABLES;')\n",
    "\n",
    "    # Print query result \n",
    "    for i in cursor.fetchall():\n",
    "        print(i)\n",
    "          \n",
    "except Exception as e:\n",
    "    print(\"Exeception occured:{}\".format(e))\n",
    "\n",
    "finally:\n",
    "    conn.close()"
   ]
  }
 ],
 "metadata": {
  "kernelspec": {
   "display_name": "Python 3",
   "language": "python",
   "name": "python3"
  },
  "language_info": {
   "codemirror_mode": {
    "name": "ipython",
    "version": 3
   },
   "file_extension": ".py",
   "mimetype": "text/x-python",
   "name": "python",
   "nbconvert_exporter": "python",
   "pygments_lexer": "ipython3",
   "version": "3.7.3"
  }
 },
 "nbformat": 4,
 "nbformat_minor": 2
}
