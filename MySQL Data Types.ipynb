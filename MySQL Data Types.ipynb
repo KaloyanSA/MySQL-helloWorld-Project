{
 "cells": [
  {
   "cell_type": "markdown",
   "metadata": {},
   "source": [
    "# MySQL Data Types (Version 8.0)"
   ]
  },
  {
   "cell_type": "markdown",
   "metadata": {},
   "source": [
    "## String Data Types\n",
    "\n",
    "* **CHAR(size)**<br>\n",
    "A FIXED length string (can contain letters, numbers, and special characters). The size parameter specifies the column length in characters - can be from 0 to 255. Default is 1\n",
    "* **VARCHAR(size)**<br> \n",
    "A VARIABLE length string (can contain letters, numbers, and special characters). The size parameter specifies the maximum column length in characters - can be from 0 to 65535\n",
    "* **BINARY(size)**<br> \n",
    "Equal to CHAR(), but stores binary byte strings. The size parameter specifies the column length in bytes. Default is 1\n",
    "* **VARBINARY(size)**<br> \n",
    "Equal to VARCHAR(), but stores binary byte strings. The size parameter specifies the maximum column length in bytes.\n",
    "* **TINYBLOB**<br> \n",
    "For BLOBs (Binary Large Objects). Max length: 255 bytes\n",
    "* **TINYTEXT**<br> \n",
    "Holds a string with a maximum length of 255 characters\n",
    "* **BLOB(size)**<br> \n",
    "For BLOBs (Binary Large Objects). Holds up to 65,535 bytes of data\n",
    "* **TEXT(size)**<br> \n",
    "Holds a string with a maximum length of 65,535 bytes\n",
    "* **MEDIUMTEXT**<br> \n",
    "Holds a string with a maximum length of 16,777,215 characters\n",
    "* **MEDIUMBLOB**<br> \n",
    "For BLOBs (Binary Large Objects). Holds up to 16,777,215 bytes of data\n",
    "* **LONGTEXT**<br> \n",
    "Holds a string with a maximum length of 4,294,967,295 characters\n",
    "* **LONGBLOB**<br> \n",
    "For BLOBs (Binary Large Objects). Holds up to 4,294,967,295 bytes of data\n",
    "* **ENUM(val1, val2, val3, ...)**<br> \n",
    "A string object that can have only one value, chosen from a list of possible values. You can list up to 65535 values in an ENUM list. If a value is inserted that is not in the list, a blank value will be inserted. The values are sorted in the order you enter them\n",
    "* **SET(val1, val2, val3, ...)**<br> \n",
    "A string object that can have 0 or more values, chosen from a list of possible values. You can list up to 64 values in a SET list"
   ]
  },
  {
   "cell_type": "markdown",
   "metadata": {},
   "source": [
    "## Numeric Data Types\n",
    "\n",
    "* **BIT(size)**\n",
    "A bit-value type. The number of bits per value is specified in size. The size parameter can hold a value from 1 to 64. The default value for size is 1.<br> \n",
    "* **TINYINT(size)**<br> \n",
    "A very small integer. Signed range is from -128 to 127. Unsigned range is from 0 to 255. The size parameter specifies the maximum display width (which is 255)\n",
    "* **BOOL**<br> \n",
    "Zero is considered as false, nonzero values are considered as true.\n",
    "* **BOOLEAN**<br> \n",
    "Equal to BOOL\n",
    "* **SMALLINT(size)**<br> \n",
    "A small integer. Signed range is from -32768 to 32767. Unsigned range is from 0 to 65535. The size parameter specifies the maximum display width (which is 255)\n",
    "* **MEDIUMINT(size)**<br> \n",
    "A medium integer. Signed range is from -8388608 to 8388607. Unsigned range is from 0 to 16777215. The size parameter specifies the maximum display width (which is 255)\n",
    "* **INT(size)**<br> \n",
    "A medium integer. Signed range is from -2147483648 to 2147483647. Unsigned range is from 0 to 4294967295. The size parameter specifies the maximum display width (which is 255)\n",
    "* **INTEGER(size)**<br> \n",
    "Equal to INT(size)\n",
    "* **BIGINT(size)**<br> \n",
    "A large integer. Signed range is from -9223372036854775808 to 9223372036854775807. Unsigned range is from 0 to 18446744073709551615. The size parameter specifies the maximum display width (which is 255)\n",
    "* **FLOAT(size, d)**<br> \n",
    "A floating point number. The total number of digits is specified in size. The number of digits after the decimal point is specified in the d parameter. This syntax is deprecated in MySQL 8.0.17, and it will be removed in future MySQL versions\n",
    "* **FLOAT(p)**<br> \n",
    "A floating point number. MySQL uses the p value to determine whether to use FLOAT or DOUBLE for the resulting data type. If p is from 0 to 24, the data type becomes FLOAT(). If p is from 25 to 53, the data type becomes DOUBLE()\n",
    "* **DOUBLE(size, d)**<br> \n",
    "A normal-size floating point number. The total number of digits is specified in size. The number of digits after the decimal point is specified in the d parameter. Ranges are -1.7976931348623157E+308 to -2.2250738585072014E-308, 0 and 2.2250738585072014E-308 to 1.7976931348623157E+308. If the number of Decimals is not set or 25 <= Decimals <= 53 stands for a double-precision floating point number\n",
    "* **DOUBLE PRECISION(size, d)**<br> \n",
    "A normal-size floating point number. \n",
    "* **REAL(M,D)**<br> \n",
    "A normal-size floating point number. \n",
    "* **DECIMAL(size, d)**<br> \n",
    "An exact fixed-point number. The total number of digits is specified in size. The number of digits after the decimal point is specified in the d parameter. The maximum number for size is 65. The maximum number for d is 30. The default value for size is 10. The default value for d is 0.\n",
    "* **DEC(size, d)**<br> \n",
    "Equal to DECIMAL(size,d)\n",
    "<br> \n",
    "Note: All the numeric data types may have an extra option: UNSIGNED or ZEROFILL. If you add the UNSIGNED option, MySQL disallows negative values for the column. If you add the ZEROFILL option, MySQL automatically also adds the UNSIGNED attribute to the column."
   ]
  },
  {
   "cell_type": "markdown",
   "metadata": {},
   "source": [
    "## Date and Time Data Types\n",
    "\n",
    "* **DATE**<br>\n",
    "A date. Format: YYYY-MM-DD. The supported range is from '1000-01-01' to '9999-12-31'<br> \n",
    "* **DATETIME(fsp)**<br>\tA date and time combination. Format: YYYY-MM-DD hh:mm:ss. The supported range is from '1000-01-01 00:00:00' to '9999-12-31 23:59:59'. Adding DEFAULT and ON UPDATE in the column definition to get automatic initialization and updating to the current date and time\n",
    "* **TIMESTAMP(fsp)**<br>\tA timestamp. TIMESTAMP values are stored as the number of seconds since the Unix epoch ('1970-01-01 00:00:00' UTC). Format: YYYY-MM-DD hh:mm:ss. The supported range is from '1970-01-01 00:00:01' UTC to '2038-01-09 03:14:07' UTC. Automatic initialization and updating to the current date and time can be specified using DEFAULT CURRENT_TIMESTAMP and ON UPDATE CURRENT_TIMESTAMP in the column definition\n",
    "* **TIME(fsp)**<br>\tA time. Format: hh:mm:ss. The supported range is from '-838:59:59' to '838:59:59'\n",
    "* **YEAR**<br>\tA year in four-digit format. Values allowed in four-digit format: 1901 to 2155, and 0000.\n",
    "MySQL 8.0 does not support year in two-digit format."
   ]
  }
 ],
 "metadata": {
  "kernelspec": {
   "display_name": "Python 3",
   "language": "python",
   "name": "python3"
  },
  "language_info": {
   "codemirror_mode": {
    "name": "ipython",
    "version": 3
   },
   "file_extension": ".py",
   "mimetype": "text/x-python",
   "name": "python",
   "nbconvert_exporter": "python",
   "pygments_lexer": "ipython3",
   "version": "3.7.3"
  }
 },
 "nbformat": 4,
 "nbformat_minor": 5
}
